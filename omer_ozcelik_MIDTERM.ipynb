{
 "cells": [
  {
   "cell_type": "markdown",
   "metadata": {
    "colab_type": "text",
    "id": "V4hKd_SUktW0"
   },
   "source": [
    "*Hello*, please change the file name as your name_surname_MIDTERM.ipynb and upload to the folder 'DROP MIDTERMS HERE' on Drive.\n",
    "ex: atay_ilgun_MIDTERM.ipynb\n",
    "\n",
    "\n",
    "\n",
    "\n",
    "\n"
   ]
  },
  {
   "cell_type": "markdown",
   "metadata": {
    "colab_type": "text",
    "id": "M5r1biQAqdFr"
   },
   "source": [
    "Describe what ML is in 50 words."
   ]
  },
  {
   "cell_type": "code",
   "execution_count": 0,
   "metadata": {
    "colab": {},
    "colab_type": "code",
    "id": "gBX2rsuOqia5"
   },
   "outputs": [],
   "source": [
    "# 'ML' in other words 'Machine Learning' means how machine learn itself to achieve/execute any assigned task, automatized the production process that understand and select meaningful (trained) data from the big data pools(i.e. VGG-16)."
   ]
  },
  {
   "cell_type": "markdown",
   "metadata": {
    "colab_type": "text",
    "id": "IcNxEZNhouaC"
   },
   "source": [
    "Give 3 examples of ML in practical use in todays world - also, meditate on how it is being utilised as well."
   ]
  },
  {
   "cell_type": "code",
   "execution_count": 0,
   "metadata": {
    "colab": {},
    "colab_type": "code",
    "id": "E13azzfLqbJl"
   },
   "outputs": [],
   "source": [
    "# Any type of Classification, Image Recognition (Recognition is on the other way is one type of classification, the machines to understand whats going on the Real world, they are need to classify soo many things, learning from 'learned' datasets, classified image data pools etc.) from Facebook, Google Photos, Photos App Galleries -People, Selfies etc. \n",
    "\n",
    "# 1.Spotify Playlist, Discover Weekly, Stations etc.\n",
    "# 2.Facebook Ads, Google Adwords,Youtube 'Recommended for you' videos etc.\n",
    "# 3.Google Search Engine Algoritm/ GoogleBrain/ GoogleAdwords etc.\n",
    "# 4.Adobe Project Cloak (maybe)"
   ]
  },
  {
   "cell_type": "markdown",
   "metadata": {
    "colab_type": "text",
    "id": "7jDbMQWRlL9g"
   },
   "source": [
    "In ML terminology what is an 'example', 'feature', 'label' and 'feature vector'?"
   ]
  },
  {
   "cell_type": "code",
   "execution_count": 0,
   "metadata": {
    "colab": {},
    "colab_type": "code",
    "id": "y3-hIoOvmPQ0"
   },
   "outputs": [],
   "source": [
    "# 'Example' means that which items of untrained/training data from the entire collection that like single image on the VGG-16.\n",
    "# 'Feature' means example of the classified/trained data specified from big data.\n",
    "# 'Label' is like circuit model, the model is not changed but the label (output) progressively changes. Label is part of meaningful data. Untold story, the idea, process in itself I think.\n",
    "# 'Feature Vector' is the key, essential part of the progress and used to specify things we need to consider in Machine Learning."
   ]
  },
  {
   "cell_type": "markdown",
   "metadata": {
    "colab_type": "text",
    "id": "kejX_KyEl9i8"
   },
   "source": [
    "In 100 words meditate on how future advancements on AI could affect your work practice as a communication designer."
   ]
  },
  {
   "cell_type": "code",
   "execution_count": 0,
   "metadata": {
    "colab": {},
    "colab_type": "code",
    "id": "b5KuqPQNklCG"
   },
   "outputs": [],
   "source": [
    "# Todays' Artificial Intelligence is more synthetic, pure computational operations and do not touch/reach on the 'daily' practice of life I think. Most of communication designer practices based on 'what I did, what I doing, what I differentiate to others, in what ways I found my way/artistic style etc.' In recent/very near future, Machine Learning associated with to highly rising computational/logical processing power to achieve visualize whats going on designers/artists mind."
   ]
  },
  {
   "cell_type": "markdown",
   "metadata": {
    "colab_type": "text",
    "id": "uEP95yllpnMw"
   },
   "source": [
    "Try to describe how you learn in algorithmic terms."
   ]
  },
  {
   "cell_type": "code",
   "execution_count": 0,
   "metadata": {
    "colab": {},
    "colab_type": "code",
    "id": "8HHAk_v_psm5"
   },
   "outputs": [],
   "source": [
    "# Thanks to logic. Algorithm means logarithmic aritmethics, pure mathematics I think. As an analogy, or operations that the three model is best described example for that kind of question, think about 'Tree Data Structures'. Logical operations like 'yes' or 'no' question, or 'or' operators with thinking on Python (logical operators) environment is like how brain works. My learning curve is too unstabilized, learning from others is a huge concept of computer science, and what and whay I^m writing that kind of paper/exam answers. In that point, there are lots of decisions, logical operations, calculations and of course 'memes' [(Thanks for presentations) I don't know what is correct answer, this exam is my experimentation/thinking process on my brain.]"
   ]
  },
  {
   "cell_type": "markdown",
   "metadata": {
    "colab_type": "text",
    "id": "9Do7b1iMnjhU"
   },
   "source": [
    "Create a python dictionary for your name surname and year of birth."
   ]
  },
  {
   "cell_type": "code",
   "execution_count": 1,
   "metadata": {
    "colab": {},
    "colab_type": "code",
    "id": "tBrElkkPnp1T"
   },
   "outputs": [
    {
     "name": "stdout",
     "output_type": "stream",
     "text": [
      "{'name': 'omer', 'surname': 'ozcelik', 'birth': 1996}\n"
     ]
    }
   ],
   "source": [
    "my_Dict = {'name':'omer','surname':'ozcelik','birth': 1996}\n",
    "    print(my_Dict)"
   ]
  },
  {
   "cell_type": "code",
   "execution_count": 0,
   "metadata": {
    "colab": {},
    "colab_type": "code",
    "id": "tBrElkkPnp1T"
   },
   "outputs": [],
   "source": [
    "my_Dict_2 = {'omer_ozcelik':[1996]}\n",
    "    print(my_Dict_2 ['omer_ozcelik'])"
   ]
  },
  {
   "cell_type": "markdown",
   "metadata": {
    "colab_type": "text",
    "id": "jhlaD8HWnqa7"
   },
   "source": [
    "Write a conditional so If the first letter of your name is 'a' print 'my initial is a!' "
   ]
  },
  {
   "cell_type": "code",
   "execution_count": 0,
   "metadata": {
    "colab": {},
    "colab_type": "code",
    "id": "TtVFoH2mn9rn"
   },
   "outputs": [],
   "source": [
    "if my_Dict ['name'][0] == 'a'\n",
    "    print('my initial is a!')"
   ]
  },
  {
   "cell_type": "markdown",
   "metadata": {
    "colab_type": "text",
    "id": "Z7sPJrZzn97x"
   },
   "source": [
    "Write a conditional so If your surnames letter count is divisable by 3 print 'it is divisible' if not 'not divisible'."
   ]
  },
  {
   "cell_type": "code",
   "execution_count": 0,
   "metadata": {
    "colab": {},
    "colab_type": "code",
    "id": "5hfzwFKUn-Qs"
   },
   "outputs": [],
   "source": [
    "if len(my_Dict['surname']) % 3 == 0:\n",
    "    print('it is divisible')\n",
    "else: \n",
    "    print('not divisible')"
   ]
  },
  {
   "cell_type": "markdown",
   "metadata": {
    "colab_type": "text",
    "id": "btGgWM6coy1E"
   },
   "source": [
    "Change your year of birth to 2678."
   ]
  },
  {
   "cell_type": "code",
   "execution_count": 0,
   "metadata": {
    "colab": {},
    "colab_type": "code",
    "id": "TyONCeiGu_74"
   },
   "outputs": [],
   "source": [
    "my_Dict = {'name':'omer','surname':'ozcelik','birth': 1996}"
   ]
  },
  {
   "cell_type": "code",
   "execution_count": 0,
   "metadata": {
    "colab": {},
    "colab_type": "code",
    "id": "TyONCeiGu_74"
   },
   "outputs": [],
   "source": [
    "my_Dict(birth) = 2678\n",
    "    print(my_Dict)"
   ]
  },
  {
   "cell_type": "markdown",
   "metadata": {
    "colab_type": "text",
    "id": "UmVf0HGvpFkr"
   },
   "source": [
    "Create a loop that goes through 20 to 40 and prints out the numbers that are divisble by 5."
   ]
  },
  {
   "cell_type": "code",
   "execution_count": null,
   "metadata": {
    "colab": {},
    "colab_type": "code",
    "id": "UmORWiWuo2tz"
   },
   "outputs": [],
   "source": [
    "# my_range = (20,40)\n",
    "    for numbers in 1\n",
    "        if numbers % 5 == 0\n",
    "            print(numbers)"
   ]
  }
 ],
 "metadata": {
  "colab": {
   "collapsed_sections": [],
   "name": "KH_ML_MIDTERM.ipynb",
   "provenance": [],
   "version": "0.3.2"
  },
  "kernelspec": {
   "display_name": "Python 3",
   "language": "python",
   "name": "python3"
  },
  "language_info": {
   "codemirror_mode": {
    "name": "ipython",
    "version": 3
   },
   "file_extension": ".py",
   "mimetype": "text/x-python",
   "name": "python",
   "nbconvert_exporter": "python",
   "pygments_lexer": "ipython3",
   "version": "3.6.5"
  }
 },
 "nbformat": 4,
 "nbformat_minor": 1
}
